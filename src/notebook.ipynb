{
 "cells": [
  {
   "cell_type": "code",
   "execution_count": null,
   "metadata": {},
   "outputs": [],
   "source": [
    "from python_package import module\n",
    "\n",
    "result = module.hello()\n",
    "\n",
    "print(result)\n",
    "\n",
    "print(\" >> Sandesk!!\")"
   ]
  }
 ],
 "metadata": {
  "language_info": {
   "name": "python"
  }
 },
 "nbformat": 4,
 "nbformat_minor": 2
}
